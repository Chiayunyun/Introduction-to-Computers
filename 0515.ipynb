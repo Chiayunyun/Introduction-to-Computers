{
  "nbformat": 4,
  "nbformat_minor": 0,
  "metadata": {
    "colab": {
      "provenance": [],
      "authorship_tag": "ABX9TyPT6JBqqnnkK+5ZMHkRMu6K",
      "include_colab_link": true
    },
    "kernelspec": {
      "name": "python3",
      "display_name": "Python 3"
    },
    "language_info": {
      "name": "python"
    }
  },
  "cells": [
    {
      "cell_type": "markdown",
      "metadata": {
        "id": "view-in-github",
        "colab_type": "text"
      },
      "source": [
        "<a href=\"https://colab.research.google.com/github/Chiayunyun/Introduction-to-Computers/blob/main/0515.ipynb\" target=\"_parent\"><img src=\"https://colab.research.google.com/assets/colab-badge.svg\" alt=\"Open In Colab\"/></a>"
      ]
    },
    {
      "cell_type": "code",
      "execution_count": null,
      "metadata": {
        "colab": {
          "base_uri": "https://localhost:8080/"
        },
        "id": "HA3j8puwQr4_",
        "outputId": "7ef52c0f-19a1-4950-8a3e-e3e837b93146"
      },
      "outputs": [
        {
          "output_type": "stream",
          "name": "stdout",
          "text": [
            "今天會下雨嗎？K\n",
            "資料錯誤，請重新輸入！\n"
          ]
        }
      ],
      "source": [
        "rain=input(\"今天會下雨嗎？\")\n",
        "if rain==\"Y\" or rain==\"y\":\n",
        "  print(\"出門記得帶傘！\")\n",
        "elif rain==\"N\" or rain==\"n\":\n",
        "  print(\"不會下雨\")\n",
        "else:\n",
        "  print(\"資料錯誤，請重新輸入！\")"
      ]
    },
    {
      "cell_type": "code",
      "source": [
        "體溫=float(input(\"請輸入您的體溫:\"))\n",
        "if 體溫>=37.5 or 體溫==37.5:\n",
        "  print(\"體溫過高！\")\n",
        "elif 體溫>=37.4 and 體溫<=37:\n",
        "  print(\"體溫略高！\")\n",
        "elif 體溫>=34 and 體溫<=36.9:\n",
        "  print(\"體溫正常！\")\n",
        "else:\n",
        "  print(\"體溫異常，請重新測量！\")"
      ],
      "metadata": {
        "colab": {
          "base_uri": "https://localhost:8080/"
        },
        "id": "eiYslfGBRyS4",
        "outputId": "2e8ae14c-0c20-4ca4-aa68-e2663e268968"
      },
      "execution_count": null,
      "outputs": [
        {
          "output_type": "stream",
          "name": "stdout",
          "text": [
            "請輸入您的體溫:36.9\n",
            "體溫正常！\n"
          ]
        }
      ]
    },
    {
      "cell_type": "code",
      "source": [
        "score=int(input(\"請輸入成績\"))\n",
        "if score >= 90:\n",
        "  print(\"A\")\n",
        "elif score >= 80:\n",
        "  print(\"B\")\n",
        "elif score >= 70:\n",
        "  print(\"C\")\n",
        "elif score >= 60:\n",
        "  print(\"D\")\n",
        "else:\n",
        "  print(\"E\")"
      ],
      "metadata": {
        "colab": {
          "base_uri": "https://localhost:8080/"
        },
        "id": "gMOejVSXRyP6",
        "outputId": "04f822b1-a0d4-49e9-fc68-7551b8bdf2b2"
      },
      "execution_count": null,
      "outputs": [
        {
          "output_type": "stream",
          "name": "stdout",
          "text": [
            "請輸入成績90\n",
            "A\n"
          ]
        }
      ]
    },
    {
      "cell_type": "code",
      "source": [
        "season=int(input(\"請輸入月份\"))\n",
        "if season>=3 and season<=5:\n",
        "  print(season,\"月是春天！\")\n",
        "elif season>=6 and season<=8:\n",
        "  print(season,\"月是夏天！\")\n",
        "elif season>=9 and season<=11:\n",
        "  print(season,\"月是秋天！\")\n",
        "elif season==12 or season==1 or season==2:\n",
        "  print(season,\"月是冬天！\")\n",
        "else:\n",
        "  print(\"月份不在範圍內\")"
      ],
      "metadata": {
        "colab": {
          "base_uri": "https://localhost:8080/"
        },
        "id": "f6Zv5Of0W7HD",
        "outputId": "e150e0c7-b3d8-406c-b62a-814144db9bc9"
      },
      "execution_count": null,
      "outputs": [
        {
          "output_type": "stream",
          "name": "stdout",
          "text": [
            "請輸入月份8\n",
            "8 月是夏天！\n"
          ]
        }
      ]
    },
    {
      "cell_type": "code",
      "source": [
        "salary=int(input(\"請輸入今年收入淨額：\"))\n",
        "if salary>=2000000:\n",
        "  print(\"付稅金額：\",salary*0.3,\"元\")\n",
        "elif salary>=1000000:\n",
        "  print(\"付稅金額：\",salary*0.21,\"元\")\n",
        "elif salary>=600000:\n",
        "  print(\"付稅金額：\",salary*0.13,\"元\")\n",
        "elif salary>=300000:\n",
        "  print(\"付稅金額：\",salary*0.06,\"元\")\n",
        "else:\n",
        "  print(\"付稅金額：0元\")"
      ],
      "metadata": {
        "colab": {
          "base_uri": "https://localhost:8080/"
        },
        "id": "qhDoM_fUZZZ0",
        "outputId": "024ef0f9-693b-4e6a-9d0f-e89142a07292"
      },
      "execution_count": null,
      "outputs": [
        {
          "output_type": "stream",
          "name": "stdout",
          "text": [
            "請輸入今年收入淨額：100000\n",
            "付稅金額：0元\n"
          ]
        }
      ]
    }
  ]
}